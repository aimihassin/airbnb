{
 "cells": [
  {
   "cell_type": "markdown",
   "metadata": {},
   "source": [
    "# Data Mining Final Exam Part 3\n",
    "\n",
    "    Name: Aimi Hassin\n",
    "    "
   ]
  },
  {
   "cell_type": "markdown",
   "metadata": {},
   "source": [
    "### Question 5"
   ]
  },
  {
   "cell_type": "markdown",
   "metadata": {},
   "source": [
    "The primary objective of this question is to build a clustering model by using density-based clustering model on the dataset from Question 1. In this question, I am applying **DBSCAN** algorithm or also known as \"density based spatial clustering of applications with noise\". Technically, this algorithm works better than K-means clustering because it can capture clusters of complex shapes as well as has the capability to detect outliers."
   ]
  },
  {
   "cell_type": "markdown",
   "metadata": {},
   "source": [
    "#### Importing required libraries"
   ]
  },
  {
   "cell_type": "code",
   "execution_count": 1,
   "metadata": {},
   "outputs": [],
   "source": [
    "import pandas as pd\n",
    "import numpy as np"
   ]
  },
  {
   "cell_type": "markdown",
   "metadata": {},
   "source": [
    "#### Loading the dataset\n"
   ]
  },
  {
   "cell_type": "code",
   "execution_count": 15,
   "metadata": {},
   "outputs": [
    {
     "data": {
      "text/html": [
       "<div>\n",
       "<style scoped>\n",
       "    .dataframe tbody tr th:only-of-type {\n",
       "        vertical-align: middle;\n",
       "    }\n",
       "\n",
       "    .dataframe tbody tr th {\n",
       "        vertical-align: top;\n",
       "    }\n",
       "\n",
       "    .dataframe thead th {\n",
       "        text-align: right;\n",
       "    }\n",
       "</style>\n",
       "<table border=\"1\" class=\"dataframe\">\n",
       "  <thead>\n",
       "    <tr style=\"text-align: right;\">\n",
       "      <th></th>\n",
       "      <th>Unnamed: 0</th>\n",
       "      <th>listing_id</th>\n",
       "      <th>host_id</th>\n",
       "      <th>city</th>\n",
       "      <th>house_title</th>\n",
       "      <th>house_type</th>\n",
       "      <th>price</th>\n",
       "      <th>owner_name</th>\n",
       "      <th>no_of_reviews</th>\n",
       "      <th>rating</th>\n",
       "      <th>occupancy</th>\n",
       "      <th>no_of_guest</th>\n",
       "      <th>bedrooms_no</th>\n",
       "      <th>beds_no</th>\n",
       "      <th>bath_no</th>\n",
       "    </tr>\n",
       "  </thead>\n",
       "  <tbody>\n",
       "    <tr>\n",
       "      <th>360</th>\n",
       "      <td>368</td>\n",
       "      <td>1360</td>\n",
       "      <td>100260</td>\n",
       "      <td>Orlando</td>\n",
       "      <td>Luxury Disney Vacation- Disney,Universal,Seawo...</td>\n",
       "      <td>Entire condominium</td>\n",
       "      <td>19.0</td>\n",
       "      <td>LuxuryVacations</td>\n",
       "      <td>46</td>\n",
       "      <td>4.0</td>\n",
       "      <td>['4 guests', '1 bedroom', '2 beds', '1 bath', ...</td>\n",
       "      <td>4.0</td>\n",
       "      <td>1.0</td>\n",
       "      <td>2.0</td>\n",
       "      <td>1.0</td>\n",
       "    </tr>\n",
       "    <tr>\n",
       "      <th>229</th>\n",
       "      <td>236</td>\n",
       "      <td>1229</td>\n",
       "      <td>100129</td>\n",
       "      <td>Manhattan</td>\n",
       "      <td>Authentic Midtown Manhattan Studio</td>\n",
       "      <td>Entire apartment</td>\n",
       "      <td>135.0</td>\n",
       "      <td>Vicente</td>\n",
       "      <td>31</td>\n",
       "      <td>5.0</td>\n",
       "      <td>['4 guests', 'Studio', '2 beds', '1 bath', '\\U...</td>\n",
       "      <td>4.0</td>\n",
       "      <td>0.5</td>\n",
       "      <td>2.0</td>\n",
       "      <td>1.0</td>\n",
       "    </tr>\n",
       "    <tr>\n",
       "      <th>266</th>\n",
       "      <td>273</td>\n",
       "      <td>1266</td>\n",
       "      <td>100166</td>\n",
       "      <td>Manhattan</td>\n",
       "      <td>Charming Duplex in Manhattan</td>\n",
       "      <td>Entire apartment</td>\n",
       "      <td>155.0</td>\n",
       "      <td>Chito And Xavier</td>\n",
       "      <td>77</td>\n",
       "      <td>5.0</td>\n",
       "      <td>['4 guests', '1 bedroom', '2 beds', '1 bath', ...</td>\n",
       "      <td>4.0</td>\n",
       "      <td>1.0</td>\n",
       "      <td>2.0</td>\n",
       "      <td>1.0</td>\n",
       "    </tr>\n",
       "    <tr>\n",
       "      <th>113</th>\n",
       "      <td>115</td>\n",
       "      <td>1113</td>\n",
       "      <td>100013</td>\n",
       "      <td>Manhattan</td>\n",
       "      <td>Metro-luxe Tuscan Suite Private Room</td>\n",
       "      <td>Private room in apartment</td>\n",
       "      <td>75.0</td>\n",
       "      <td>Anne</td>\n",
       "      <td>272</td>\n",
       "      <td>4.5</td>\n",
       "      <td>['4 guests', '1 bedroom', '1 bed', '1 shared b...</td>\n",
       "      <td>4.0</td>\n",
       "      <td>1.0</td>\n",
       "      <td>1.0</td>\n",
       "      <td>1.0</td>\n",
       "    </tr>\n",
       "    <tr>\n",
       "      <th>411</th>\n",
       "      <td>419</td>\n",
       "      <td>1411</td>\n",
       "      <td>100311</td>\n",
       "      <td>Orlando</td>\n",
       "      <td>•15%OFF LUXURY NEAR DISNEY, UNIVERSAL &amp; I-DRIVE•</td>\n",
       "      <td>Private room in apartment</td>\n",
       "      <td>69.0</td>\n",
       "      <td>Shaka</td>\n",
       "      <td>42</td>\n",
       "      <td>5.0</td>\n",
       "      <td>['4 guests', '1 bedroom', '2 beds', '1 private...</td>\n",
       "      <td>4.0</td>\n",
       "      <td>1.0</td>\n",
       "      <td>2.0</td>\n",
       "      <td>1.0</td>\n",
       "    </tr>\n",
       "  </tbody>\n",
       "</table>\n",
       "</div>"
      ],
      "text/plain": [
       "     Unnamed: 0  listing_id  host_id       city  \\\n",
       "360         368        1360   100260    Orlando   \n",
       "229         236        1229   100129  Manhattan   \n",
       "266         273        1266   100166  Manhattan   \n",
       "113         115        1113   100013  Manhattan   \n",
       "411         419        1411   100311    Orlando   \n",
       "\n",
       "                                           house_title  \\\n",
       "360  Luxury Disney Vacation- Disney,Universal,Seawo...   \n",
       "229                 Authentic Midtown Manhattan Studio   \n",
       "266                       Charming Duplex in Manhattan   \n",
       "113               Metro-luxe Tuscan Suite Private Room   \n",
       "411   •15%OFF LUXURY NEAR DISNEY, UNIVERSAL & I-DRIVE•   \n",
       "\n",
       "                    house_type  price        owner_name  no_of_reviews  \\\n",
       "360         Entire condominium   19.0   LuxuryVacations             46   \n",
       "229           Entire apartment  135.0           Vicente             31   \n",
       "266           Entire apartment  155.0  Chito And Xavier             77   \n",
       "113  Private room in apartment   75.0              Anne            272   \n",
       "411  Private room in apartment   69.0             Shaka             42   \n",
       "\n",
       "     rating                                          occupancy  no_of_guest  \\\n",
       "360     4.0  ['4 guests', '1 bedroom', '2 beds', '1 bath', ...          4.0   \n",
       "229     5.0  ['4 guests', 'Studio', '2 beds', '1 bath', '\\U...          4.0   \n",
       "266     5.0  ['4 guests', '1 bedroom', '2 beds', '1 bath', ...          4.0   \n",
       "113     4.5  ['4 guests', '1 bedroom', '1 bed', '1 shared b...          4.0   \n",
       "411     5.0  ['4 guests', '1 bedroom', '2 beds', '1 private...          4.0   \n",
       "\n",
       "     bedrooms_no  beds_no  bath_no  \n",
       "360          1.0      2.0      1.0  \n",
       "229          0.5      2.0      1.0  \n",
       "266          1.0      2.0      1.0  \n",
       "113          1.0      1.0      1.0  \n",
       "411          1.0      2.0      1.0  "
      ]
     },
     "execution_count": 15,
     "metadata": {},
     "output_type": "execute_result"
    }
   ],
   "source": [
    "data = pd.read_csv(\"airbnb.csv\")\n",
    "data.sample(5)"
   ]
  },
  {
   "cell_type": "code",
   "execution_count": 16,
   "metadata": {},
   "outputs": [
    {
     "data": {
      "text/html": [
       "<div>\n",
       "<style scoped>\n",
       "    .dataframe tbody tr th:only-of-type {\n",
       "        vertical-align: middle;\n",
       "    }\n",
       "\n",
       "    .dataframe tbody tr th {\n",
       "        vertical-align: top;\n",
       "    }\n",
       "\n",
       "    .dataframe thead th {\n",
       "        text-align: right;\n",
       "    }\n",
       "</style>\n",
       "<table border=\"1\" class=\"dataframe\">\n",
       "  <thead>\n",
       "    <tr style=\"text-align: right;\">\n",
       "      <th></th>\n",
       "      <th>Unnamed: 0</th>\n",
       "      <th>listing_id</th>\n",
       "      <th>host_id</th>\n",
       "      <th>price</th>\n",
       "      <th>no_of_reviews</th>\n",
       "      <th>rating</th>\n",
       "      <th>no_of_guest</th>\n",
       "      <th>bedrooms_no</th>\n",
       "      <th>beds_no</th>\n",
       "      <th>bath_no</th>\n",
       "    </tr>\n",
       "  </thead>\n",
       "  <tbody>\n",
       "    <tr>\n",
       "      <th>count</th>\n",
       "      <td>598.000000</td>\n",
       "      <td>598.000000</td>\n",
       "      <td>598.000000</td>\n",
       "      <td>598.000000</td>\n",
       "      <td>598.000000</td>\n",
       "      <td>598.000000</td>\n",
       "      <td>598.000000</td>\n",
       "      <td>598.000000</td>\n",
       "      <td>598.000000</td>\n",
       "      <td>598.000000</td>\n",
       "    </tr>\n",
       "    <tr>\n",
       "      <th>mean</th>\n",
       "      <td>305.295987</td>\n",
       "      <td>1298.500000</td>\n",
       "      <td>100198.500000</td>\n",
       "      <td>113.152174</td>\n",
       "      <td>111.458194</td>\n",
       "      <td>4.678094</td>\n",
       "      <td>4.685619</td>\n",
       "      <td>1.358696</td>\n",
       "      <td>2.433110</td>\n",
       "      <td>1.220736</td>\n",
       "    </tr>\n",
       "    <tr>\n",
       "      <th>std</th>\n",
       "      <td>176.639943</td>\n",
       "      <td>172.772008</td>\n",
       "      <td>172.772008</td>\n",
       "      <td>62.365046</td>\n",
       "      <td>77.052685</td>\n",
       "      <td>0.330684</td>\n",
       "      <td>1.730065</td>\n",
       "      <td>0.737043</td>\n",
       "      <td>1.189587</td>\n",
       "      <td>0.598523</td>\n",
       "    </tr>\n",
       "    <tr>\n",
       "      <th>min</th>\n",
       "      <td>0.000000</td>\n",
       "      <td>1000.000000</td>\n",
       "      <td>99900.000000</td>\n",
       "      <td>17.000000</td>\n",
       "      <td>3.000000</td>\n",
       "      <td>3.500000</td>\n",
       "      <td>3.000000</td>\n",
       "      <td>0.500000</td>\n",
       "      <td>0.000000</td>\n",
       "      <td>1.000000</td>\n",
       "    </tr>\n",
       "    <tr>\n",
       "      <th>25%</th>\n",
       "      <td>153.250000</td>\n",
       "      <td>1149.250000</td>\n",
       "      <td>100049.250000</td>\n",
       "      <td>65.000000</td>\n",
       "      <td>55.000000</td>\n",
       "      <td>4.500000</td>\n",
       "      <td>4.000000</td>\n",
       "      <td>1.000000</td>\n",
       "      <td>2.000000</td>\n",
       "      <td>1.000000</td>\n",
       "    </tr>\n",
       "    <tr>\n",
       "      <th>50%</th>\n",
       "      <td>306.500000</td>\n",
       "      <td>1298.500000</td>\n",
       "      <td>100198.500000</td>\n",
       "      <td>95.000000</td>\n",
       "      <td>95.000000</td>\n",
       "      <td>4.500000</td>\n",
       "      <td>4.000000</td>\n",
       "      <td>1.000000</td>\n",
       "      <td>2.000000</td>\n",
       "      <td>1.000000</td>\n",
       "    </tr>\n",
       "    <tr>\n",
       "      <th>75%</th>\n",
       "      <td>456.750000</td>\n",
       "      <td>1447.750000</td>\n",
       "      <td>100347.750000</td>\n",
       "      <td>150.000000</td>\n",
       "      <td>155.000000</td>\n",
       "      <td>5.000000</td>\n",
       "      <td>6.000000</td>\n",
       "      <td>2.000000</td>\n",
       "      <td>3.000000</td>\n",
       "      <td>1.000000</td>\n",
       "    </tr>\n",
       "    <tr>\n",
       "      <th>max</th>\n",
       "      <td>611.000000</td>\n",
       "      <td>1597.000000</td>\n",
       "      <td>100497.000000</td>\n",
       "      <td>500.000000</td>\n",
       "      <td>526.000000</td>\n",
       "      <td>5.000000</td>\n",
       "      <td>16.000000</td>\n",
       "      <td>5.000000</td>\n",
       "      <td>10.000000</td>\n",
       "      <td>11.500000</td>\n",
       "    </tr>\n",
       "  </tbody>\n",
       "</table>\n",
       "</div>"
      ],
      "text/plain": [
       "       Unnamed: 0   listing_id        host_id       price  no_of_reviews  \\\n",
       "count  598.000000   598.000000     598.000000  598.000000     598.000000   \n",
       "mean   305.295987  1298.500000  100198.500000  113.152174     111.458194   \n",
       "std    176.639943   172.772008     172.772008   62.365046      77.052685   \n",
       "min      0.000000  1000.000000   99900.000000   17.000000       3.000000   \n",
       "25%    153.250000  1149.250000  100049.250000   65.000000      55.000000   \n",
       "50%    306.500000  1298.500000  100198.500000   95.000000      95.000000   \n",
       "75%    456.750000  1447.750000  100347.750000  150.000000     155.000000   \n",
       "max    611.000000  1597.000000  100497.000000  500.000000     526.000000   \n",
       "\n",
       "           rating  no_of_guest  bedrooms_no     beds_no     bath_no  \n",
       "count  598.000000   598.000000   598.000000  598.000000  598.000000  \n",
       "mean     4.678094     4.685619     1.358696    2.433110    1.220736  \n",
       "std      0.330684     1.730065     0.737043    1.189587    0.598523  \n",
       "min      3.500000     3.000000     0.500000    0.000000    1.000000  \n",
       "25%      4.500000     4.000000     1.000000    2.000000    1.000000  \n",
       "50%      4.500000     4.000000     1.000000    2.000000    1.000000  \n",
       "75%      5.000000     6.000000     2.000000    3.000000    1.000000  \n",
       "max      5.000000    16.000000     5.000000   10.000000   11.500000  "
      ]
     },
     "execution_count": 16,
     "metadata": {},
     "output_type": "execute_result"
    }
   ],
   "source": [
    "data.describe()"
   ]
  },
  {
   "cell_type": "code",
   "execution_count": 17,
   "metadata": {},
   "outputs": [
    {
     "data": {
      "text/plain": [
       "Unnamed: 0       False\n",
       "listing_id       False\n",
       "host_id          False\n",
       "city             False\n",
       "house_title      False\n",
       "house_type       False\n",
       "price            False\n",
       "owner_name       False\n",
       "no_of_reviews    False\n",
       "rating           False\n",
       "occupancy        False\n",
       "no_of_guest      False\n",
       "bedrooms_no      False\n",
       "beds_no          False\n",
       "bath_no          False\n",
       "dtype: bool"
      ]
     },
     "execution_count": 17,
     "metadata": {},
     "output_type": "execute_result"
    }
   ],
   "source": [
    "# checking any null values\n",
    "(data.isnull()).any()"
   ]
  },
  {
   "cell_type": "code",
   "execution_count": 18,
   "metadata": {},
   "outputs": [
    {
     "data": {
      "text/plain": [
       "Unnamed: 0       False\n",
       "listing_id       False\n",
       "host_id          False\n",
       "city             False\n",
       "house_title      False\n",
       "house_type       False\n",
       "price            False\n",
       "owner_name       False\n",
       "no_of_reviews    False\n",
       "rating           False\n",
       "occupancy        False\n",
       "no_of_guest      False\n",
       "bedrooms_no      False\n",
       "beds_no          False\n",
       "bath_no          False\n",
       "dtype: bool"
      ]
     },
     "execution_count": 18,
     "metadata": {},
     "output_type": "execute_result"
    }
   ],
   "source": [
    "(data.isna()).any()"
   ]
  },
  {
   "cell_type": "code",
   "execution_count": 19,
   "metadata": {},
   "outputs": [
    {
     "data": {
      "text/plain": [
       "Unnamed: 0         int64\n",
       "listing_id         int64\n",
       "host_id            int64\n",
       "city              object\n",
       "house_title       object\n",
       "house_type        object\n",
       "price            float64\n",
       "owner_name        object\n",
       "no_of_reviews      int64\n",
       "rating           float64\n",
       "occupancy         object\n",
       "no_of_guest      float64\n",
       "bedrooms_no      float64\n",
       "beds_no          float64\n",
       "bath_no          float64\n",
       "dtype: object"
      ]
     },
     "execution_count": 19,
     "metadata": {},
     "output_type": "execute_result"
    }
   ],
   "source": [
    "# checking data types\n",
    "data.dtypes"
   ]
  },
  {
   "cell_type": "markdown",
   "metadata": {},
   "source": [
    "#### Construct a density-based clustering model and extract cluster labels and outliers to the plot"
   ]
  },
  {
   "cell_type": "code",
   "execution_count": 149,
   "metadata": {},
   "outputs": [],
   "source": [
    "from sklearn.cluster import DBSCAN\n",
    "from sklearn import metrics\n",
    "from sklearn.datasets import make_blobs\n",
    "from sklearn.preprocessing import StandardScaler\n",
    "import matplotlib.pyplot as plt\n",
    "%matplotlib inline"
   ]
  },
  {
   "cell_type": "code",
   "execution_count": 150,
   "metadata": {},
   "outputs": [],
   "source": [
    "# Choosing only 2 attributes for visualizing purposes\n",
    "dfv = data[[\"price\", \"no_of_reviews\"]]"
   ]
  },
  {
   "cell_type": "code",
   "execution_count": 151,
   "metadata": {},
   "outputs": [
    {
     "data": {
      "image/png": "[encoded data removed]",
      "text/plain": [
       "<Figure size 432x288 with 1 Axes>"
      ]
     },
     "metadata": {
      "needs_background": "light"
     },
     "output_type": "display_data"
    }
   ],
   "source": [
    "# Plotting the data\n",
    "x = dfv['price']\n",
    "y = dfv['no_of_reviews']\n",
    "\n",
    "plt.scatter(x,y)\n",
    "plt.xlabel(\"Price\")\n",
    "plt.ylabel(\"Number of reviews\")\n",
    "plt.title(\"Airbnb Listing Price and Number of Reviews\")\n",
    "plt.show()"
   ]
  },
  {
   "cell_type": "code",
   "execution_count": 152,
   "metadata": {},
   "outputs": [
    {
     "data": {
      "text/plain": [
       "array([[ 91., 279.],\n",
       "       [ 87., 137.],\n",
       "       [165., 272.],\n",
       "       ...,\n",
       "       [100., 171.],\n",
       "       [ 99.,  62.],\n",
       "       [ 85., 114.]], dtype=float32)"
      ]
     },
     "execution_count": 152,
     "metadata": {},
     "output_type": "execute_result"
    }
   ],
   "source": [
    "# Preparing the data for clustering\n",
    "df_dbscan = data[[\"price\", \"no_of_reviews\"]]\n",
    "df_dbscan = df_dbscan.values.astype(\"float32\", copy = False)\n",
    "df_dbscan"
   ]
  },
  {
   "cell_type": "code",
   "execution_count": 153,
   "metadata": {},
   "outputs": [],
   "source": [
    "# Normalizing the data\n",
    "stscaler = StandardScaler().fit(df_dbscan)\n",
    "df_dbscan = stscaler.transform(df_dbscan)"
   ]
  },
  {
   "cell_type": "code",
   "execution_count": 154,
   "metadata": {},
   "outputs": [],
   "source": [
    "# Constructing the model\n",
    "dbsc = DBSCAN(eps=0.2, min_samples=10).fit(df_dbscan)\n",
    "core_samples_mask = np.zeros_like(dbsc.labels_, dtype=bool)\n",
    "core_samples_mask[dbsc.core_sample_indices_] = True\n",
    "labels = dbsc.labels_"
   ]
  },
  {
   "cell_type": "markdown",
   "metadata": {},
   "source": [
    "**Comment:** \n",
    "Two important parameters in DBSCAN are **eps** and **min_samples**. \n",
    "\"eps\" specifies how close points should be to each other to be considered a part of a cluster. It means that if the distance between two points is lower or equal to this value (eps), these points are considered neighbors.\n",
    "Meanwhile, \"min_samples\" refers to the minimum number of points to form a dense region. Higher min_samples or lower eps indicate higher density necessary to form a cluster."
   ]
  },
  {
   "cell_type": "code",
   "execution_count": 155,
   "metadata": {},
   "outputs": [
    {
     "name": "stdout",
     "output_type": "stream",
     "text": [
      "Estimated number of clusters: 3\n",
      "Estimated number of noise points: 245\n"
     ]
    }
   ],
   "source": [
    "# Number of clusters in labels, ignoring noise if present.\n",
    "n_clusters_ = len(set(labels)) - (1 if -1 in labels else 0)\n",
    "n_noise_ = list(labels).count(-1)\n",
    "print('Estimated number of clusters: %d' % n_clusters_)\n",
    "print('Estimated number of noise points: %d' % n_noise_)"
   ]
  },
  {
   "cell_type": "code",
   "execution_count": 156,
   "metadata": {},
   "outputs": [
    {
     "data": {
      "image/png": "[encoded data removed]",
      "text/plain": [
       "<Figure size 432x288 with 1 Axes>"
      ]
     },
     "metadata": {
      "needs_background": "light"
     },
     "output_type": "display_data"
    }
   ],
   "source": [
    "# Visualizing the result\n",
    "\n",
    "# Black removed and is used for noise instead.\n",
    "unique_labels = set(labels)\n",
    "colors = [plt.cm.Spectral(each)\n",
    "          for each in np.linspace(0, 1, len(unique_labels))]\n",
    "for k, col in zip(unique_labels, colors):\n",
    "    if k == -1:\n",
    "        # Black used for noise.\n",
    "        col = [0, 0, 0, 1]\n",
    "\n",
    "    class_member_mask = (labels == k)\n",
    "\n",
    "    xy = X[class_member_mask & core_samples_mask]\n",
    "    plt.plot(xy[:, 0], xy[:, 1], 'o', markerfacecolor=tuple(col),\n",
    "             markeredgecolor='k', markersize=14)\n",
    "\n",
    "    xy = X[class_member_mask & ~core_samples_mask]\n",
    "    plt.plot(xy[:, 0], xy[:, 1], 'o', markerfacecolor=tuple(col),\n",
    "             markeredgecolor='k', markersize=6)\n",
    "\n",
    "plt.xlabel(\"Price\")\n",
    "plt.ylabel(\"Number of reviews\")\n",
    "plt.title('DBSCAN on Airbnb Listing Price')\n",
    "plt.show()"
   ]
  },
  {
   "cell_type": "markdown",
   "metadata": {},
   "source": [
    "**Comment:** Based on the results above, we can see that there are 3 clusteres have been formed. These clusters are represented by the colourful colours. Meanwhile, the black points in the plot indicates the outliers in the data. These outliers are the points that are neither core samples nor close enough to a cluster to be density-reachable from a core sample. Note that the points that are within a dense region are called core samples (or core points). In the context of this dataset, finding the outliers maybe useful to the Airbnb to know which Airbnb listings that have the highest amount of reviews, according to the respective price's group. This can give an insight to the company to understand better why that particular Airbnb listing has such review's numbers, regardless of good or bad reviews. So, by grouping according to the price, the company able to understand why Aribnb users leave such comments. The reviews or comments made by the Airbnb users might be because of the pricing- either it is reasonable or not."
   ]
  }
 ],
 "metadata": {
  "kernelspec": {
   "display_name": "Python 3",
   "language": "python",
   "name": "python3"
  },
  "language_info": {
   "codemirror_mode": {
    "name": "ipython",
    "version": 3
   },
   "file_extension": ".py",
   "mimetype": "text/x-python",
   "name": "python",
   "nbconvert_exporter": "python",
   "pygments_lexer": "ipython3",
   "version": "3.7.3"
  }
 },
 "nbformat": 4,
 "nbformat_minor": 2
}
